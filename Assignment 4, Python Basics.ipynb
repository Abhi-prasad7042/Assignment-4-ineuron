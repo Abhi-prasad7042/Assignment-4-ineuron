{
 "cells": [
  {
   "cell_type": "markdown",
   "id": "f04e7d43",
   "metadata": {},
   "source": [
    "### Question1\n",
    "\n",
    "What exactly is []?\n",
    "\n",
    "### Answer:- \n",
    "\n",
    "It is a blank list. The type of this is list, A list which does not contain any value."
   ]
  },
  {
   "cell_type": "markdown",
   "id": "e76b17d2",
   "metadata": {},
   "source": [
    "### Question2\n",
    "\n",
    "In a list of values stored in a variable called spam, how would you assign the value 'hello' as the\n",
    "third value? (Assume [2, 4, 6, 8, 10] are in spam.)\n",
    "\n",
    "### Answer:-\n",
    "\n",
    "We'll assign the value like this spam[2]='hello', here the index of third value is 2."
   ]
  },
  {
   "cell_type": "code",
   "execution_count": 1,
   "id": "86a6f6f0",
   "metadata": {},
   "outputs": [
    {
     "data": {
      "text/plain": [
       "[2, 4, 'hello', 8, 10]"
      ]
     },
     "execution_count": 1,
     "metadata": {},
     "output_type": "execute_result"
    }
   ],
   "source": [
    "spam = [2,4,6,8,10]\n",
    "\n",
    "spam[2]='hello'\n",
    "spam"
   ]
  },
  {
   "cell_type": "markdown",
   "id": "21b1bd48",
   "metadata": {},
   "source": [
    "**Let's pretend the spam includes the list ['a','b','c','d'] for the next three queries.**\n",
    "\n",
    "### Question3\n",
    "\n",
    "What is the value of spam[int(int('3'*2)/11)]?\n",
    "\n",
    "### Answer:- \n",
    "\n",
    "The value of spam[int(int('3'*2)/11)] is 'd', Calculation '3' multiply by 2 we'll get '33' then here we did type casting int('33') then we got 33 then we divide by 11 we got 3.0 then again here we did type casting int(3.0) we got 3 and on the index of 3 we have 'd'."
   ]
  },
  {
   "cell_type": "code",
   "execution_count": 2,
   "id": "002dd815",
   "metadata": {},
   "outputs": [
    {
     "data": {
      "text/plain": [
       "'d'"
      ]
     },
     "execution_count": 2,
     "metadata": {},
     "output_type": "execute_result"
    }
   ],
   "source": [
    "spam = ['a','b','c','d'] \n",
    "\n",
    "spam[int(int('3'*2)/11)]"
   ]
  },
  {
   "cell_type": "markdown",
   "id": "7b98ded1",
   "metadata": {},
   "source": [
    "### Question4\n",
    "\n",
    "What is the value of spam[-1]?\n",
    "\n",
    "### Answer:-\n",
    "\n",
    "The value of spam[-1] is 'd', because -1 starts with last index of list"
   ]
  },
  {
   "cell_type": "code",
   "execution_count": 3,
   "id": "c8cad274",
   "metadata": {},
   "outputs": [
    {
     "data": {
      "text/plain": [
       "'d'"
      ]
     },
     "execution_count": 3,
     "metadata": {},
     "output_type": "execute_result"
    }
   ],
   "source": [
    "spam[-1]"
   ]
  },
  {
   "cell_type": "markdown",
   "id": "278dcb07",
   "metadata": {},
   "source": [
    "### Question5\n",
    "\n",
    "What is the value of spam[:2]?\n",
    "\n",
    "### Answer:- \n",
    "\n",
    "The value of spam[:2] is ['a','b']. spam[:2] it tell that start with 0 here before colon by default we have 0 if there is no value python automaticall takes that as 0 so, start with 0 go up to the 2 index. Note it will not include 2. "
   ]
  },
  {
   "cell_type": "code",
   "execution_count": 4,
   "id": "e951df23",
   "metadata": {},
   "outputs": [
    {
     "data": {
      "text/plain": [
       "['a', 'b']"
      ]
     },
     "execution_count": 4,
     "metadata": {},
     "output_type": "execute_result"
    }
   ],
   "source": [
    "spam[:2]"
   ]
  },
  {
   "cell_type": "markdown",
   "id": "fc8bbad5",
   "metadata": {},
   "source": [
    "**Let's pretend bacon has the list [3.14, 'cat', 11, 'cat', True] for the next three questions.**\n",
    "\n",
    "### Question6\n",
    "\n",
    "What is the value of bacon.index('cat')?\n",
    "\n",
    "### Answer:- \n",
    "\n",
    "The value of bacon.index('cat') is 1. `.index` is inbuilt function of list that takes value of list as an argument and gives the index of that list."
   ]
  },
  {
   "cell_type": "code",
   "execution_count": 5,
   "id": "96e72128",
   "metadata": {},
   "outputs": [
    {
     "data": {
      "text/plain": [
       "1"
      ]
     },
     "execution_count": 5,
     "metadata": {},
     "output_type": "execute_result"
    }
   ],
   "source": [
    "bacon = [3.14, 'cat', 11, 'cat', True]\n",
    "\n",
    "bacon.index('cat')"
   ]
  },
  {
   "cell_type": "markdown",
   "id": "6f8e73ab",
   "metadata": {},
   "source": [
    "### Question7\n",
    "\n",
    "How does bacon.append(99) change the look of the list value in bacon?\n",
    "\n",
    "### Answer:- \n",
    "\n",
    "bacon.append(99) will add the 99 in the end of list. `.append` is an inbuilt function of list that adds the value in end of list."
   ]
  },
  {
   "cell_type": "code",
   "execution_count": 6,
   "id": "c255cea9",
   "metadata": {},
   "outputs": [
    {
     "data": {
      "text/plain": [
       "[3.14, 'cat', 11, 'cat', True, 99]"
      ]
     },
     "execution_count": 6,
     "metadata": {},
     "output_type": "execute_result"
    }
   ],
   "source": [
    "bacon.append(99)\n",
    "bacon"
   ]
  },
  {
   "cell_type": "markdown",
   "id": "a54aadcb",
   "metadata": {},
   "source": [
    "### Question8\n",
    "\n",
    "How does bacon.remove('cat') change the look of the list in bacon?\n",
    "\n",
    "### Answer:-\n",
    "\n",
    "bacon.remove('cat') removes the cat value in the list of bacon."
   ]
  },
  {
   "cell_type": "code",
   "execution_count": 7,
   "id": "bc057f48",
   "metadata": {},
   "outputs": [
    {
     "data": {
      "text/plain": [
       "[3.14, 11, 'cat', True, 99]"
      ]
     },
     "execution_count": 7,
     "metadata": {},
     "output_type": "execute_result"
    }
   ],
   "source": [
    "bacon.remove('cat')\n",
    "bacon"
   ]
  },
  {
   "cell_type": "markdown",
   "id": "07ae3890",
   "metadata": {},
   "source": [
    "### Question9\n",
    "\n",
    "What are the list concatenation and list replication operators?\n",
    "\n",
    "### Answer:- \n",
    "\n",
    "The list concatenation operator is `+` and replication operator is `-`"
   ]
  },
  {
   "cell_type": "code",
   "execution_count": 8,
   "id": "a8452003",
   "metadata": {},
   "outputs": [
    {
     "data": {
      "text/plain": [
       "[3.14, 11, 'cat', True, 99, 'a', 'b', 'c', 'd']"
      ]
     },
     "execution_count": 8,
     "metadata": {},
     "output_type": "execute_result"
    }
   ],
   "source": [
    "bacon + spam"
   ]
  },
  {
   "cell_type": "code",
   "execution_count": 9,
   "id": "3ad05d4b",
   "metadata": {},
   "outputs": [
    {
     "data": {
      "text/plain": [
       "[3.14, 11, 'cat', True, 99, 3.14, 11, 'cat', True, 99]"
      ]
     },
     "execution_count": 9,
     "metadata": {},
     "output_type": "execute_result"
    }
   ],
   "source": [
    "bacon*2"
   ]
  },
  {
   "cell_type": "markdown",
   "id": "19055182",
   "metadata": {},
   "source": [
    "### Question10\n",
    "\n",
    "What is difference between the list methods append() and insert()?\n",
    "\n",
    "### Answer:-\n",
    "\n",
    "List.append() add the value at end of list whereas list.insert() add the value anywhere in the list."
   ]
  },
  {
   "cell_type": "code",
   "execution_count": 10,
   "id": "6c7d3696",
   "metadata": {},
   "outputs": [
    {
     "data": {
      "text/plain": [
       "[3.14, 11, 'cat', True, 99, 'dog']"
      ]
     },
     "execution_count": 10,
     "metadata": {},
     "output_type": "execute_result"
    }
   ],
   "source": [
    "bacon.append(\"dog\")\n",
    "bacon"
   ]
  },
  {
   "cell_type": "code",
   "execution_count": 11,
   "id": "66154c44",
   "metadata": {},
   "outputs": [
    {
     "data": {
      "text/plain": [
       "[3.14, 'rat', 11, 'cat', True, 99, 'dog']"
      ]
     },
     "execution_count": 11,
     "metadata": {},
     "output_type": "execute_result"
    }
   ],
   "source": [
    "bacon.insert(1,\"rat\")\n",
    "bacon"
   ]
  },
  {
   "cell_type": "markdown",
   "id": "5b40071b",
   "metadata": {},
   "source": [
    "### Question11\n",
    "\n",
    "What are the two methods for removing items from a list?\n",
    "\n",
    "### Answer:-\n",
    "\n",
    "list.remove() and list.pop() these two methods can help to remove items from the list"
   ]
  },
  {
   "cell_type": "code",
   "execution_count": 12,
   "id": "631992cc",
   "metadata": {},
   "outputs": [
    {
     "data": {
      "text/plain": [
       "[3.14, 11, 'cat', True, 99, 'dog']"
      ]
     },
     "execution_count": 12,
     "metadata": {},
     "output_type": "execute_result"
    }
   ],
   "source": [
    "bacon.remove('rat')\n",
    "bacon"
   ]
  },
  {
   "cell_type": "code",
   "execution_count": 13,
   "id": "b6d29c93",
   "metadata": {},
   "outputs": [
    {
     "data": {
      "text/plain": [
       "[3.14, 'cat', True, 99, 'dog']"
      ]
     },
     "execution_count": 13,
     "metadata": {},
     "output_type": "execute_result"
    }
   ],
   "source": [
    "bacon.pop(1)\n",
    "bacon"
   ]
  },
  {
   "cell_type": "markdown",
   "id": "13053512",
   "metadata": {},
   "source": [
    "### Question12\n",
    "\n",
    "Describe how list values and string values are identical.\n",
    "\n",
    "### Answer:- \n",
    "\n",
    "List and string both are used to store value and they are iterable and sequence also it is ordered collection. The only and major difference is we can store any data type in list whereas string can store characters in single or double quotes."
   ]
  },
  {
   "cell_type": "markdown",
   "id": "85a67d4f",
   "metadata": {},
   "source": [
    "### Question13\n",
    "\n",
    "What's the difference between tuples and lists?\n",
    "\n",
    "### Answer:-\n",
    "\n",
    "There are lots of difference in tuples and lists. Like tuples are immutable and lists are mutable. In iteration list takes more time as compare to tuples, because tuples consumes less memory as compare to list. Tuples are unchangeable that means we can not add or remove items from tuple whereas in list we can add and remove items."
   ]
  },
  {
   "cell_type": "markdown",
   "id": "f00592c9",
   "metadata": {},
   "source": [
    "### Question14\n",
    "\n",
    "How do you type a tuple value that only contains the integer 42?\n",
    "\n",
    "### Answer:-\n",
    "\n",
    "We'll write like this (42,), comma is must because if we not use comma then it will take as an int or if we use tuple before bracket it gives error 'int' object is not iterable."
   ]
  },
  {
   "cell_type": "code",
   "execution_count": 8,
   "id": "7feb1db3",
   "metadata": {},
   "outputs": [
    {
     "data": {
      "text/plain": [
       "tuple"
      ]
     },
     "execution_count": 8,
     "metadata": {},
     "output_type": "execute_result"
    }
   ],
   "source": [
    "a = (42,)\n",
    "type(a)"
   ]
  },
  {
   "cell_type": "markdown",
   "id": "64dc4589",
   "metadata": {},
   "source": [
    "### Question15\n",
    "\n",
    "How do you get a list value's tuple form? How do you get a tuple value's list form?\n",
    "\n",
    "### Answer:- \n",
    "\n",
    "To get a list value's of tuple form we use list(), And same as to get tuple value's we use tuple()."
   ]
  },
  {
   "cell_type": "code",
   "execution_count": 10,
   "id": "4d4d54ad",
   "metadata": {},
   "outputs": [
    {
     "data": {
      "text/plain": [
       "(1, 2, 3, 4, 5)"
      ]
     },
     "execution_count": 10,
     "metadata": {},
     "output_type": "execute_result"
    }
   ],
   "source": [
    "a = [1,2,3,4,5]\n",
    "\n",
    "tuple(a)"
   ]
  },
  {
   "cell_type": "markdown",
   "id": "a0977fef",
   "metadata": {},
   "source": [
    "### Question16\n",
    "\n",
    "Variables that \"contain\" list values are not necessarily lists themselves. Instead, when do they contain?\n",
    "\n",
    "### Answer:-\n",
    "\n",
    "They contain **reference** of list values instead of containing list."
   ]
  },
  {
   "cell_type": "markdown",
   "id": "2eaaa956",
   "metadata": {},
   "source": [
    "### Question17\n",
    "\n",
    "How do you distinguish between copy.copy() and copy.deepcopy()?\n",
    "\n",
    "### Answer:-\n",
    "\n",
    "So, copy.copy() is a shallow copy it means like we copy an object like this and if we do any changes in copied object it also reflect to original object. On other hand we use deepcopy it makes a new object and copy the items in that therefore if we do any changes in new object it will not reflect original object."
   ]
  }
 ],
 "metadata": {
  "kernelspec": {
   "display_name": "Python 3 (ipykernel)",
   "language": "python",
   "name": "python3"
  },
  "language_info": {
   "codemirror_mode": {
    "name": "ipython",
    "version": 3
   },
   "file_extension": ".py",
   "mimetype": "text/x-python",
   "name": "python",
   "nbconvert_exporter": "python",
   "pygments_lexer": "ipython3",
   "version": "3.8.11"
  }
 },
 "nbformat": 4,
 "nbformat_minor": 5
}
